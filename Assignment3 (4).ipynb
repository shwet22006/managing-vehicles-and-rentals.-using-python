{
 "cells": [
  {
   "cell_type": "code",
   "execution_count": 6,
   "metadata": {},
   "outputs": [
    {
     "name": "stdout",
     "output_type": "stream",
     "text": [
      "All vehicles:\n",
      "[Vehicle(ID: 001, Make: Porsche, Model: Carrera, Year: 2006, Category: GT), Vehicle(ID: 002, Make: McLaren, Model: Senna, Year: 2020, Category: GTR), Vehicle(ID: 003, Make: Bugatti, Model: Chiron, Year: 2021, Category: SPORT)]\n",
      "\n",
      "SPORT vehicles:\n",
      "[Vehicle(ID: 003, Make: Bugatti, Model: Chiron, Year: 2021, Category: SPORT)]\n",
      "\n",
      "Search for 'McLaren':\n",
      "[Vehicle(ID: 002, Make: McLaren, Model: Senna, Year: 2020, Category: GTR)]\n",
      "\n",
      "All vehicles after removing ID 002:\n",
      "[Vehicle(ID: 001, Make: Porsche, Model: Carrera, Year: 2006, Category: GT), Vehicle(ID: 003, Make: Bugatti, Model: Chiron, Year: 2021, Category: SPORT)]\n",
      "Vehicle with ID 001 already exists.\n"
     ]
    }
   ],
   "source": [
    "class Vehicle:\n",
    "    def __init__(self, vehicle_id, make, model, year, category):\n",
    "        self.info = (vehicle_id, make, model, year, category)\n",
    "\n",
    "    def __repr__(self):\n",
    "        return f\"Vehicle(ID: {self.info[0]}, Make: {self.info[1]}, Model: {self.info[2]}, Year: {self.info[3]}, Category: {self.info[4]})\"\n",
    "\n",
    "class VehicleRentalSystem:\n",
    "    def __init__(self):\n",
    "        self.vehicles = []\n",
    "        self.vehicle_set = set()\n",
    "        self.category_dict = {}\n",
    "\n",
    "    def add_vehicle(self, vehicle):\n",
    "        if vehicle.info not in self.vehicle_set:\n",
    "            self.vehicles.append(vehicle)\n",
    "            self.vehicle_set.add(vehicle.info)\n",
    "            self.category_dict.setdefault(vehicle.info[4], []).append(vehicle)\n",
    "        else:\n",
    "            print(f\"Vehicle with ID {vehicle.info[0]} already exists.\")\n",
    "\n",
    "    def remove_vehicle(self, vehicle_id):\n",
    "        vehicle_to_remove = next((v for v in self.vehicles if v.info[0] == vehicle_id), None)\n",
    "        if vehicle_to_remove:\n",
    "            self.vehicles.remove(vehicle_to_remove)\n",
    "            self.vehicle_set.remove(vehicle_to_remove.info)\n",
    "            self.category_dict[vehicle_to_remove.info[4]].remove(vehicle_to_remove)\n",
    "            if not self.category_dict[vehicle_to_remove.info[4]]:\n",
    "                del self.category_dict[vehicle_to_remove.info[4]]\n",
    "        else:\n",
    "            print(f\"Vehicle with ID {vehicle_id} not found.\")\n",
    "\n",
    "    def search_vehicles(self, search_term):\n",
    "        return [v for v in self.vehicles if search_term in v.info]\n",
    "\n",
    "    def list_all_vehicles(self):\n",
    "        return self.vehicles\n",
    "\n",
    "    def list_vehicles_by_category(self, category):\n",
    "        return self.category_dict.get(category, [])\n",
    "\n",
    "rental_system = VehicleRentalSystem()\n",
    "\n",
    "rental_system.add_vehicle(Vehicle(\"001\", \"Porsche\", \"Carrera\", 2006, \"GT\"))\n",
    "rental_system.add_vehicle(Vehicle(\"002\", \"McLaren\", \"Senna\", 2020, \"GTR\"))\n",
    "rental_system.add_vehicle(Vehicle(\"003\", \"Bugatti\", \"Chiron\", 2021, \"SPORT\"))\n",
    "\n",
    "print(\"All vehicles:\")\n",
    "print(rental_system.list_all_vehicles())\n",
    "\n",
    "print(\"\\nSPORT vehicles:\")\n",
    "print(rental_system.list_vehicles_by_category(\"SPORT\"))\n",
    "\n",
    "print(\"\\nSearch for 'McLaren':\")\n",
    "print(rental_system.search_vehicles(\"McLaren\"))\n",
    "\n",
    "rental_system.remove_vehicle(\"002\")\n",
    "print(\"\\nAll vehicles after removing ID 002:\")\n",
    "print(rental_system.list_all_vehicles())\n",
    "\n",
    "rental_system.add_vehicle(Vehicle(\"001\", \"Porsche\", \"Carrera\", 2006, \"GT\"))"
   ]
  }
 ],
 "metadata": {
  "kernelspec": {
   "display_name": "Python 3",
   "language": "python",
   "name": "python3"
  },
  "language_info": {
   "codemirror_mode": {
    "name": "ipython",
    "version": 3
   },
   "file_extension": ".py",
   "mimetype": "text/x-python",
   "name": "python",
   "nbconvert_exporter": "python",
   "pygments_lexer": "ipython3",
   "version": "3.12.3"
  }
 },
 "nbformat": 4,
 "nbformat_minor": 2
}
